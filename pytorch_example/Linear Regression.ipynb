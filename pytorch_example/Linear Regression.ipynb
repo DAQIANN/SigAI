{
 "cells": [
  {
   "cell_type": "code",
   "execution_count": null,
   "metadata": {},
   "outputs": [],
   "source": [
    "import torch\n",
    "import torch.nn as nn\n",
    "import numpy as np\n",
    "import random\n",
    "import matplotlib.pyplot as plt\n",
    "import torch.optim as optim"
   ]
  },
  {
   "cell_type": "code",
   "execution_count": null,
   "metadata": {},
   "outputs": [],
   "source": [
    "class LinearModel(nn.Module):\n",
    "    def __init__(self, num_dims):\n",
    "        super(LinearModel, self).__init__()\n",
    "        self.layer = nn.Linear(num_dims, 1)\n",
    "        \n",
    "    def forward(self, x):\n",
    "        return self.layer(x)"
   ]
  },
  {
   "cell_type": "code",
   "execution_count": null,
   "metadata": {},
   "outputs": [],
   "source": [
    "def generate_data(n, std=2):\n",
    "    weights = np.random.random((2,))\n",
    "    x = np.random.uniform(-1, 5, (n,))\n",
    "    x = np.stack([x, np.ones((n,))], axis=1)\n",
    "    y = np.matmul(x, weights)\n",
    "    y += np.random.normal(0, std, (n,))\n",
    "    return x, y"
   ]
  },
  {
   "cell_type": "code",
   "execution_count": null,
   "metadata": {},
   "outputs": [],
   "source": [
    "data = generate_data(100, std=0.2)\n",
    "x_vals = data[0][:,0]\n",
    "plt.scatter(x_vals, data[1])\n",
    "plt.show()"
   ]
  },
  {
   "cell_type": "code",
   "execution_count": null,
   "metadata": {},
   "outputs": [],
   "source": [
    "model = LinearModel(2)\n",
    "x = data[0]\n",
    "y = data[1]\n",
    "x = torch.from_numpy(x).float()\n",
    "y = torch.from_numpy(y).float()\n",
    "optimizer = optim.SGD(model.parameters(), lr=0.01)\n",
    "\n",
    "for i in range(1000):\n",
    "    difference = model(x) - y\n",
    "    loss = torch.mean(difference ** 2)\n",
    "    print(loss)\n",
    "    optimizer.zero_grad()\n",
    "    loss.backward()\n",
    "    optimizer.step()\n",
    "    "
   ]
  },
  {
   "cell_type": "code",
   "execution_count": null,
   "metadata": {},
   "outputs": [],
   "source": [
    "reference = np.stack([np.linspace(-1,5,100), np.ones(100,)], axis=1)\n",
    "reference = torch.from_numpy(reference).float()\n",
    "ref_y = model(reference)\n",
    "\n",
    "print(reference, x_vals)\n",
    "\n",
    "plt.scatter(reference[:,0].data.numpy(), ref_y.data.numpy(), color='r')\n",
    "plt.scatter(x_vals, model(x).data.numpy(), color='b')\n",
    "plt.plot()"
   ]
  },
  {
   "cell_type": "code",
   "execution_count": null,
   "metadata": {},
   "outputs": [],
   "source": []
  },
  {
   "cell_type": "code",
   "execution_count": null,
   "metadata": {},
   "outputs": [],
   "source": []
  }
 ],
 "metadata": {
  "kernelspec": {
   "display_name": "Python 3",
   "language": "python",
   "name": "python3"
  },
  "language_info": {
   "codemirror_mode": {
    "name": "ipython",
    "version": 3
   },
   "file_extension": ".py",
   "mimetype": "text/x-python",
   "name": "python",
   "nbconvert_exporter": "python",
   "pygments_lexer": "ipython3",
   "version": "3.6.8"
  }
 },
 "nbformat": 4,
 "nbformat_minor": 2
}
