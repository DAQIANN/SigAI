{
 "cells": [
  {
   "cell_type": "code",
   "execution_count": 1,
   "metadata": {
    "collapsed": true
   },
   "outputs": [],
   "source": [
    "# Imports \n",
    "import random\n",
    "import numpy as np \n",
    "import string"
   ]
  },
  {
   "cell_type": "code",
   "execution_count": 2,
   "metadata": {
    "collapsed": true
   },
   "outputs": [],
   "source": [
    "# Generates a list of 200 random words\n",
    "def generate_list():\n",
    "\tphrase_list = []\n",
    "\n",
    "\t# Initialize the phrase list\n",
    "\tfor i in range(200):\n",
    "\t\tword=\"\"\n",
    "\t\tfor j in range(len(phrase)):\n",
    "\t\t\tword = word + random.choice(alphabets)\n",
    "\t\tphrase_list.append(word)\n",
    "\n",
    "\treturn phrase_list"
   ]
  },
  {
   "cell_type": "code",
   "execution_count": 3,
   "metadata": {
    "collapsed": true
   },
   "outputs": [],
   "source": [
    "# generate_list()"
   ]
  },
  {
   "cell_type": "code",
   "execution_count": 4,
   "metadata": {
    "collapsed": true
   },
   "outputs": [],
   "source": [
    "# compute the fitness score for each phrase\n",
    "def compute_fitness(phrase_list):\n",
    "\tfitness_list= []\n",
    "\ttotal_score = 0\n",
    "\tfor pop_phrase in phrase_list:\n",
    "\t\tscore = 0\n",
    "\t\tfor i in range(len(phrase)):\n",
    "\t\t\tif pop_phrase[i] == phrase[i]:\n",
    "\t\t\t\tscore+=1\n",
    "\t\tscore = score*score\n",
    "\t\ttotal_score+=score\n",
    "\n",
    "\t\tfitness_list.append((pop_phrase, score))\n",
    "\n",
    "\treturn fitness_list, total_score"
   ]
  },
  {
   "cell_type": "code",
   "execution_count": 5,
   "metadata": {
    "collapsed": true
   },
   "outputs": [],
   "source": [
    "# fitness_list, total_score= compute_fitness(phrase_list)"
   ]
  },
  {
   "cell_type": "code",
   "execution_count": 6,
   "metadata": {
    "collapsed": true
   },
   "outputs": [],
   "source": [
    "# Create the selection pool list\n",
    "def compute_selection(fitness_list, total_score):\n",
    "\tselection_pool = []\n",
    "\t\n",
    "\t# adds more phrases to the list based on the relative score\n",
    "\tfor fit_phrase in fitness_list:\n",
    "\t\ttotal_copy = int((float(fit_phrase[1])/float(total_score))*len(fitness_list))\n",
    "\t\tfor i in range(total_copy):\n",
    "\t\t\tselection_pool.append(fit_phrase[0])\n",
    "\n",
    "\treturn selection_pool"
   ]
  },
  {
   "cell_type": "code",
   "execution_count": 7,
   "metadata": {
    "collapsed": true
   },
   "outputs": [],
   "source": [
    "# selection_pool = compute_selection(fitness_list,total_score)"
   ]
  },
  {
   "cell_type": "code",
   "execution_count": 8,
   "metadata": {
    "collapsed": true
   },
   "outputs": [],
   "source": [
    "# recombine from selction process with mutation and add to phrase list\n",
    "def compute_recombination(selection_pool, phrase_list, fitness_list, mutation_factor = 0.01, dying_factor=0.01):\n",
    "\t\n",
    "\t# Chooses 100 members of the population to kill off and replace with the offspring\n",
    "\tindicies_to_replace = []\n",
    "\n",
    "\tfor i in range(100):\n",
    "\t\tindicies_to_replace.append(random.randint(0,100))\n",
    "\n",
    "\tfor i in indicies_to_replace:\n",
    "\t\ttop_2 = []\n",
    "\t\tfor j in range(2):\n",
    "\t\t\tif j==0:\n",
    "\t\t\t\ttop_2.append(random.choice(selection_pool))\n",
    "\t\t\t\tsub_pool = [ele for ele in selection_pool if ele != top_2[0]]\n",
    "\t\t\telse:\n",
    "\t\t\t\ttop_2.append(random.choice(sub_pool))\n",
    "\n",
    "\t\t# Random splitting of the index, better for variance\n",
    "\t\tsplit_index = random.choice([i for i in range(len(top_2[0]))])\n",
    "\t\tnew_word = top_2[0][0:split_index] + top_2[1][split_index:]\n",
    "\n",
    "\n",
    "\t\t# incorperates the mutation rate to alter the combined word\n",
    "\t\tmutation_compound = int(mutation_factor*1000)\n",
    "\t\tmutation_list= [1]*mutation_compound + [0]*(1000-mutation_compound)\n",
    "\t\tdetermine_mutation = random.choice(mutation_list)\n",
    "\t\tif determine_mutation == 1:\n",
    "\t\t\tnew_word = list(new_word)\n",
    "\t\t\tindex_of_choice = random.choice([k for k in range(len(new_word))])\n",
    "\t\t\tnew_word[index_of_choice] = random.choice(alphabets)\n",
    "\t\t\tword_to_be=\"\"\n",
    "\t\t\tfor letter in new_word:\n",
    "\t\t\t\tword_to_be+=letter\n",
    "\t\t\tnew_word=word_to_be\n",
    "\n",
    "\t\t\n",
    "\n",
    "\t\tphrase_list[i] = new_word\n",
    "\n",
    "\treturn phrase_list"
   ]
  },
  {
   "cell_type": "code",
   "execution_count": 9,
   "metadata": {
    "collapsed": true
   },
   "outputs": [],
   "source": [
    "# phrase_list= compute_recombination(selection_pool, phrase_list, fitness_list)"
   ]
  },
  {
   "cell_type": "code",
   "execution_count": 10,
   "metadata": {
    "collapsed": true
   },
   "outputs": [],
   "source": [
    "# Monte carlo method to run the genetic algorithm over multipler iterations\n",
    "def run_simulation():\n",
    "\tphrase_list = generate_list()\n",
    "\tcount = 0\n",
    "\twhile phrase not in phrase_list:\n",
    "\t\tfitness_list, total_score= compute_fitness(phrase_list)\n",
    "\t\tfitness_values = sorted(fitness_list, key=lambda phrase: phrase[1],reverse=True)\n",
    "\t\ttop_value=fitness_values[0]\n",
    "\t\tprint(top_value)\n",
    "\t\tprint()\n",
    "\t\tselection_pool = compute_selection(fitness_list,total_score)\n",
    "\t\tphrase_list= compute_recombination(selection_pool, phrase_list, fitness_list)\n",
    "\n",
    "\t\tcount +=1\n",
    "\tfitness_list, total_score= compute_fitness(phrase_list)\n",
    "\tfitness_values = sorted(fitness_list, key=lambda phrase: phrase[1],reverse=True)\n",
    "\ttop_value=fitness_values[0]\n",
    "\tprint(top_value)\n",
    "\tprint(\"It took the genetic algorithm \"+ str(count) + \" tries to get the word you entered\")"
   ]
  },
  {
   "cell_type": "code",
   "execution_count": null,
   "metadata": {
    "collapsed": true
   },
   "outputs": [],
   "source": [
    "# run_simulation()"
   ]
  }
 ],
 "metadata": {
  "kernelspec": {
   "display_name": "Python 3",
   "language": "python",
   "name": "python3"
  },
  "language_info": {
   "codemirror_mode": {
    "name": "ipython",
    "version": 3
   },
   "file_extension": ".py",
   "mimetype": "text/x-python",
   "name": "python",
   "nbconvert_exporter": "python",
   "pygments_lexer": "ipython3",
   "version": "3.6.2"
  }
 },
 "nbformat": 4,
 "nbformat_minor": 2
}
